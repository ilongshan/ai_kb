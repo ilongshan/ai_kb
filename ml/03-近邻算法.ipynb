{
 "cells": [
  {
   "cell_type": "markdown",
   "metadata": {},
   "source": [
    "k近邻算法是一种基本的分类与回归算法 - 根据新实例的k个最近邻的训练实例的类别，通过多数表决等方式进行预测\n",
    "### 1. k近邻的几个要素\n",
    "1. 模型\n",
    "    - 特征空间被划分成了不同的子空间\n",
    "    - 对于训练实例点来说，距离该点比其他点更近的所有点组成的区域，叫做单元(cell)，该训练实例点的类型称为该单元的类标记(class label)\n",
    "2. 距离度量\n",
    "    - 两个实例之间的距离表示的两个实例之间的相似程度\n",
    "    - 常用的距离度量方法：$L_{p}$距离（也叫Minkowski距离）$$L_{p}(x_{i},x_{j})=\\Big{(} \\sum_{l=1}^{n} \\Big{|}x_{i}^{(l)}-x_{j}^{(l)}\\Big{|}^{p} \\Big{)}^{\\frac{1}{p}}$$当$p=1$时，称为曼哈顿(Manhattan Distance)$$L_{1}(x_{i},x_{j})= \\sum_{l=1}^{n} \\Big{|}x_{i}^{(l)}-x_{j}^{(l)}\\Big{|}$$当$p=2$时，称为欧氏距离(Euclidean Distance)$$L_{2}(x_{i},x_{j})=\\Big{(} \\sum_{l=1}^{n} \\Big{|}x_{i}^{(l)}-x_{j}^{(l)}\\Big{|}^{2} \\Big{)}^{\\frac{1}{2}}$$当$p=\\infty$时，称为切比雪夫距离(Chebyshev Distance)$$L_{\\infty}(x_{i},x_{j})=\\max_{l}\\Big{|} x_{i}^{(l)}-x_{j}^{(l)}  \\Big{|}$$\n",
    "3. k值选择\n",
    "\n",
    "||优点|缺点|\n",
    "|---|---|---|\n",
    "|小k值|近似误差(approximation error)会减小|估计误差(estimation error)会增大，预测结果对近邻的实例点非常敏感，模型复杂|\n",
    "|大k值|减小学习误差，模型简单|近似误差增大，与输入实例不相似的训练实例也会对预测起作用|\n",
    "\n",
    "4. 分类决策规则\n",
    "    - 常用的是**多数表决（majority voting rule）**的规则\n",
    "    - 分类函数时0-1损失函数，误分类的概率是$$P\\{Y \\neq f(X)\\}=1-P\\{ Y = f(X) \\}$$\n",
    "\n",
    "### 2. kd树\n",
    "1. 需要注意的几点\n",
    "    - kd树中的k指的是数据的维数，并不是k近邻算法中和当前输入节点最近的点的个数。避免影响书中后面的算法的理解。\n",
    "    - kd树是一个树形结构，在初始化的时候使用递归的方法来创建比较方便。\n",
    "3. kd树的搜索算法包含两步\n",
    "    - 第一步，递归的搜索kd树，得到输入点对应的叶节点。\n",
    "    - 第二步，向上回溯寻找真正的最近邻点\n",
    "4. 参考实现[A simple kd-tree in Python](https://github.com/stefankoegl/kdtree)"
   ]
  },
  {
   "cell_type": "code",
   "execution_count": null,
   "metadata": {
    "collapsed": true
   },
   "outputs": [],
   "source": []
  }
 ],
 "metadata": {
  "kernelspec": {
   "display_name": "Python 3",
   "language": "python",
   "name": "python3"
  },
  "language_info": {
   "codemirror_mode": {
    "name": "ipython",
    "version": 3
   },
   "file_extension": ".py",
   "mimetype": "text/x-python",
   "name": "python",
   "nbconvert_exporter": "python",
   "pygments_lexer": "ipython3",
   "version": "3.6.1"
  }
 },
 "nbformat": 4,
 "nbformat_minor": 2
}
