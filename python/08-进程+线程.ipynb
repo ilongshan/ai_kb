{
 "cells": [
  {
   "cell_type": "markdown",
   "metadata": {},
   "source": [
    "进程和线程是提高CPU利用率的两种方法。\n",
    "#### 1. 多进程（multiprocessing）\n",
    "    - os.fork()\n",
    "        - 可以用来创建新的子进程\n",
    "        - 在父进程中返回一个正数进程号\n",
    "        - 在子进程中返回0\n",
    "        - windows没有fork()系统调用\n",
    "    - multiprocessing.Process跨平台的多进程支持\n",
    "        - start()\n",
    "        - join():等待子进程结束后再继续往下运行\n",
    "    - Pool进程池\n",
    "        - 当启动的进程的数目大于进程池中创建的进程的数目的时候，多出来的进程需要等待其他进程推出之后才能继续执行\n",
    "    - 子进程（subprocess）\n",
    "        - 启动进程，控制它的输入和输出\n",
    "    - 进程间通信\n",
    "#### 2. 多线程\n",
    "    - _thread和threading两个模块支持。_thread时低级模块，threading是高级模块，对_thread的封装\n",
    "    - Lock: 多线程中的不同线程有时候会有共享的数据。对于共享数据的修改，需要按照一定的顺序。否则，读到的数据可能会不正确。\n",
    "    - 由于GIL的存在，python不能利用多核CPU来进行加速。此时可以使用多进程来实现多核多任务。\n",
    "#### 3. ThreadLocal\n",
    "    - 全局变量如果没有适当的加锁处理，在多线程运行中有可能会干扰\n",
    "    - 局部变量在进行参数传递的时候可能显得有些麻烦\n",
    "    - 使用线程ID作为key的全局字典dict可以避免多线程的干扰，同时参数的传递也可以变得稍微简单。但是它并不能真正的隔离数据，以为每个线程还是可以读取全局的字典，并对字典进行修改\n",
    "    - ThreadLocal对象可以避免全局dict的缺点\n",
    "#### 4. 分布式进程TODO\n",
    "    - "
   ]
  },
  {
   "cell_type": "code",
   "execution_count": 4,
   "metadata": {},
   "outputs": [
    {
     "name": "stdout",
     "output_type": "stream",
     "text": [
      "Process(24235) start...\n",
      "This is parent process(24235), and the created child pid is 8643\n",
      "This is child process(8643), and the parent is 24235\n"
     ]
    }
   ],
   "source": [
    "# os.fork()\n",
    "import os\n",
    "\n",
    "print('Process(%s) start...' %os.getpid())\n",
    "pid = os.fork()\n",
    "if(pid == 0):\n",
    "    print('This is child process(%s), and the parent is %s' %(os.getpid(), os.getppid()))\n",
    "else:\n",
    "    print('This is parent process(%s), and the created child pid is %s' %(os.getpid(), pid))\n"
   ]
  },
  {
   "cell_type": "code",
   "execution_count": 6,
   "metadata": {},
   "outputs": [
    {
     "name": "stdout",
     "output_type": "stream",
     "text": [
      "Parent process is 24235.\n",
      "Child process will start.\n",
      "Run child process test(29533).\n",
      "Child process end.\n"
     ]
    }
   ],
   "source": [
    "# multiprocessing.Process\n",
    "\n",
    "from multiprocessing import Process\n",
    "import os\n",
    "\n",
    "def run_proc(name):\n",
    "    print('Run child process %s(%s).' % (name, os.getpid()))\n",
    "\n",
    "print('Parent process is %s.' %os.getpid())\n",
    "p = Process(target=run_proc, args=('test',))\n",
    "print('Child process will start.')\n",
    "p.start()\n",
    "p.join()\n",
    "print('Child process end.')"
   ]
  },
  {
   "cell_type": "code",
   "execution_count": 9,
   "metadata": {},
   "outputs": [
    {
     "name": "stdout",
     "output_type": "stream",
     "text": [
      "Run task 0(29907)\n",
      "Run task 4(29909)\n",
      "Run task 2(29910)\n",
      "Run task 1(29908)\n",
      "Run task 3(29911)\n",
      "Waiting for all subprocessses to end...\n",
      "Run task 5(29911)\n",
      "Run task 6(29911)\n",
      "Run task 7(29908)\n",
      "Run task 8(29909)\n",
      "All subprocesses done\n"
     ]
    }
   ],
   "source": [
    "import os, time, random\n",
    "from multiprocessing import Pool\n",
    "\n",
    "def long_time_task(name):\n",
    "    print('Run task %s(%s)' %(name, os.getpid()))\n",
    "    start = time.time()\n",
    "    time.sleep(random.random() * 3)\n",
    "    end = time.time()\n",
    "    print('Task %s(%s) runs %0.2f seconds' %(name, (end - start)))\n",
    "\n",
    "p = Pool(5)\n",
    "for i in range(9):\n",
    "    p.apply_async(long_time_task, args=(i,))\n",
    "print('Waiting for all subprocessses to end...')\n",
    "p.close()\n",
    "p.join()\n",
    "print('All subprocesses done')"
   ]
  },
  {
   "cell_type": "code",
   "execution_count": 12,
   "metadata": {},
   "outputs": [
    {
     "name": "stdout",
     "output_type": "stream",
     "text": [
      "$ nslookup www.python.org\n",
      "Exit code: 0\n",
      "$ nslookup\n",
      "Server:\t\t127.0.0.1\n",
      "Address:\t127.0.0.1#53\n",
      "\n",
      "Non-authoritative answer:\n",
      "python.org\tmail exchanger = 50 mail.python.org.\n",
      "\n",
      "Authoritative answers can be found from:\n",
      "python.org\tnameserver = ns3.p11.dynect.net.\n",
      "python.org\tnameserver = ns1.p11.dynect.net.\n",
      "python.org\tnameserver = ns2.p11.dynect.net.\n",
      "python.org\tnameserver = ns4.p11.dynect.net.\n",
      "mail.python.org\tinternet address = 188.166.95.178\n",
      "mail.python.org\thas AAAA address 2a03:b0c0:2:d0::71:1\n",
      "ns1.p11.dynect.net\tinternet address = 208.78.70.11\n",
      "ns2.p11.dynect.net\tinternet address = 204.13.250.11\n",
      "ns3.p11.dynect.net\tinternet address = 208.78.71.11\n",
      "ns4.p11.dynect.net\tinternet address = 204.13.251.11\n",
      ";; connection timed out; no servers could be reached\n",
      "\n",
      "\n",
      "Exit code:  0\n"
     ]
    }
   ],
   "source": [
    "import subprocess\n",
    "\n",
    "print('$ nslookup www.python.org')\n",
    "r = subprocess.call(['nslookup', 'www.python.org'])\n",
    "print('Exit code:', r)\n",
    "\n",
    "print('$ nslookup')\n",
    "p = subprocess.Popen(['nslookup'], stdin=subprocess.PIPE, stdout=subprocess.PIPE, stderr=subprocess.PIPE)\n",
    "out, err = p.communicate(b'set q=mx\\npython.org\\nnexit\\n')\n",
    "print(out.decode('utf-8'))\n",
    "print('Exit code: ', p.returncode)"
   ]
  },
  {
   "cell_type": "code",
   "execution_count": 13,
   "metadata": {},
   "outputs": [
    {
     "name": "stdout",
     "output_type": "stream",
     "text": [
      "Process to read: <built-in function getpid>\n",
      "Process to write: 4503\n",
      "Put A to queue...\n",
      "Get A from queue.\n",
      "Put B to queue...\n",
      "Get B from queue.\n",
      "Put C to queue...\n",
      "Get C from queue.\n"
     ]
    }
   ],
   "source": [
    "from multiprocessing import Process, Queue\n",
    "import os, time, random\n",
    "\n",
    "def write(q):\n",
    "    print('Process to write: %s' % os.getpid())\n",
    "    for value in ['A', 'B', 'C']:\n",
    "        print('Put %s to queue...' %value)\n",
    "        q.put(value)\n",
    "        time.sleep(random.random())\n",
    "        \n",
    "def read(q):\n",
    "    print('Process to read: %s' %os.getpid)\n",
    "    while True:\n",
    "        value = q.get(True)\n",
    "        print('Get %s from queue.' %value)\n",
    "        \n",
    "q = Queue()\n",
    "pw = Process(target=write, args=(q,))\n",
    "pr = Process(target=read, args=(q,))\n",
    "pw.start()\n",
    "pr.start()\n",
    "pw.join()\n",
    "pr.terminate()"
   ]
  },
  {
   "cell_type": "code",
   "execution_count": 17,
   "metadata": {},
   "outputs": [
    {
     "name": "stdout",
     "output_type": "stream",
     "text": [
      "Thread MainThread is running.\n",
      "Thread LoopThread is  running...\n",
      "Thread LoopThread >>> 1\n",
      "Thread LoopThread >>> 2\n",
      "Thread LoopThread >>> 3\n",
      "Thread LoopThread >>> 4\n",
      "Thread LoopThread >>> 5\n",
      "Thread LoopThread ended.\n",
      "Thread MainThread end.\n"
     ]
    }
   ],
   "source": [
    "import time, threading\n",
    "\n",
    "def loop():\n",
    "    print('Thread %s is  running...' %threading.current_thread().name)\n",
    "    n = 0\n",
    "    while n < 5:\n",
    "        n += 1\n",
    "        print('Thread %s >>> %s' %(threading.current_thread().name, n))\n",
    "        time.sleep(1)\n",
    "    print('Thread %s ended.' %threading.current_thread().name)\n",
    "    \n",
    "print('Thread %s is running.' %threading.current_thread().name)\n",
    "t = threading.Thread(target=loop, name='LoopThread')\n",
    "t.start()\n",
    "t.join()\n",
    "print('Thread %s end.' %threading.current_thread().name)"
   ]
  },
  {
   "cell_type": "code",
   "execution_count": 37,
   "metadata": {},
   "outputs": [
    {
     "name": "stdout",
     "output_type": "stream",
     "text": [
      "10000\n",
      "8\n"
     ]
    }
   ],
   "source": [
    "import time, threading\n",
    "import multiprocessing\n",
    "\n",
    "global_num = 0\n",
    "\n",
    "def thread_cal():\n",
    "    global global_num\n",
    "    for i in range(1000):\n",
    "        global_num += 1\n",
    "\n",
    "threads = []\n",
    "for i in range(10):\n",
    "    threads.append(threading.Thread(target=thread_cal))\n",
    "    threads[i].start()\n",
    "\n",
    "for i in range(10):\n",
    "    threads[i].join()\n",
    "\n",
    "print(global_num)\n",
    "print(multiprocessing.cpu_count())"
   ]
  },
  {
   "cell_type": "code",
   "execution_count": 39,
   "metadata": {},
   "outputs": [
    {
     "name": "stdout",
     "output_type": "stream",
     "text": [
      "Hello, Alice (in Thread-A)\n",
      "Hello, Bob (in Thread-B)\n"
     ]
    }
   ],
   "source": [
    "import threading\n",
    "\n",
    "local_school = threading.local()\n",
    "\n",
    "def process_student():\n",
    "    std = local_school.student\n",
    "    print('Hello, %s (in %s)' %(std, threading.current_thread().name))\n",
    "    \n",
    "def process_thread(name):\n",
    "    local_school.student = name\n",
    "    process_student()\n",
    "\n",
    "t1 = threading.Thread(target=process_thread, args=('Alice',), name='Thread-A')\n",
    "t2 = threading.Thread(target=process_thread, args=('Bob',), name='Thread-B')\n",
    "t1.start()\n",
    "t2.start()\n",
    "t1.join()\n",
    "t2.join()\n"
   ]
  },
  {
   "cell_type": "code",
   "execution_count": 40,
   "metadata": {},
   "outputs": [
    {
     "name": "stdout",
     "output_type": "stream",
     "text": [
      "Put task 4360...\n",
      "Put task 1267...\n",
      "Put task 7718...\n",
      "Put task 1142...\n",
      "Put task 1907...\n",
      "Put task 7101...\n",
      "Put task 5648...\n",
      "Put task 9327...\n",
      "Put task 3660...\n",
      "Put task 6721...\n",
      "Try get results...\n"
     ]
    },
    {
     "ename": "Empty",
     "evalue": "",
     "output_type": "error",
     "traceback": [
      "\u001b[0;31m---------------------------------------------------------------------------\u001b[0m",
      "\u001b[0;31mEmpty\u001b[0m                                     Traceback (most recent call last)",
      "\u001b[0;32m<ipython-input-40-71bf602c11c7>\u001b[0m in \u001b[0;36m<module>\u001b[0;34m()\u001b[0m\n\u001b[1;32m     25\u001b[0m \u001b[0mprint\u001b[0m\u001b[0;34m(\u001b[0m\u001b[0;34m'Try get results...'\u001b[0m\u001b[0;34m)\u001b[0m\u001b[0;34m\u001b[0m\u001b[0m\n\u001b[1;32m     26\u001b[0m \u001b[0;32mfor\u001b[0m \u001b[0mi\u001b[0m \u001b[0;32min\u001b[0m \u001b[0mrange\u001b[0m\u001b[0;34m(\u001b[0m\u001b[0;36m10\u001b[0m\u001b[0;34m)\u001b[0m\u001b[0;34m:\u001b[0m\u001b[0;34m\u001b[0m\u001b[0m\n\u001b[0;32m---> 27\u001b[0;31m     \u001b[0mr\u001b[0m \u001b[0;34m=\u001b[0m \u001b[0mresult\u001b[0m\u001b[0;34m.\u001b[0m\u001b[0mget\u001b[0m\u001b[0;34m(\u001b[0m\u001b[0mtimeout\u001b[0m\u001b[0;34m=\u001b[0m\u001b[0;36m10\u001b[0m\u001b[0;34m)\u001b[0m\u001b[0;34m\u001b[0m\u001b[0m\n\u001b[0m\u001b[1;32m     28\u001b[0m \u001b[0;34m\u001b[0m\u001b[0m\n\u001b[1;32m     29\u001b[0m \u001b[0mmanager\u001b[0m\u001b[0;34m.\u001b[0m\u001b[0mshutdown\u001b[0m\u001b[0;34m(\u001b[0m\u001b[0;34m)\u001b[0m\u001b[0;34m\u001b[0m\u001b[0m\n",
      "\u001b[0;32m<string>\u001b[0m in \u001b[0;36mget\u001b[0;34m(self, *args, **kwds)\u001b[0m\n",
      "\u001b[0;32m/usr/lib/python3.5/multiprocessing/managers.py\u001b[0m in \u001b[0;36m_callmethod\u001b[0;34m(self, methodname, args, kwds)\u001b[0m\n\u001b[1;32m    730\u001b[0m             \u001b[0mdispatch\u001b[0m\u001b[0;34m(\u001b[0m\u001b[0mconn\u001b[0m\u001b[0;34m,\u001b[0m \u001b[0;32mNone\u001b[0m\u001b[0;34m,\u001b[0m \u001b[0;34m'decref'\u001b[0m\u001b[0;34m,\u001b[0m \u001b[0;34m(\u001b[0m\u001b[0mtoken\u001b[0m\u001b[0;34m.\u001b[0m\u001b[0mid\u001b[0m\u001b[0;34m,\u001b[0m\u001b[0;34m)\u001b[0m\u001b[0;34m)\u001b[0m\u001b[0;34m\u001b[0m\u001b[0m\n\u001b[1;32m    731\u001b[0m             \u001b[0;32mreturn\u001b[0m \u001b[0mproxy\u001b[0m\u001b[0;34m\u001b[0m\u001b[0m\n\u001b[0;32m--> 732\u001b[0;31m         \u001b[0;32mraise\u001b[0m \u001b[0mconvert_to_error\u001b[0m\u001b[0;34m(\u001b[0m\u001b[0mkind\u001b[0m\u001b[0;34m,\u001b[0m \u001b[0mresult\u001b[0m\u001b[0;34m)\u001b[0m\u001b[0;34m\u001b[0m\u001b[0m\n\u001b[0m\u001b[1;32m    733\u001b[0m \u001b[0;34m\u001b[0m\u001b[0m\n\u001b[1;32m    734\u001b[0m     \u001b[0;32mdef\u001b[0m \u001b[0m_getvalue\u001b[0m\u001b[0;34m(\u001b[0m\u001b[0mself\u001b[0m\u001b[0;34m)\u001b[0m\u001b[0;34m:\u001b[0m\u001b[0;34m\u001b[0m\u001b[0m\n",
      "\u001b[0;31mEmpty\u001b[0m: "
     ]
    }
   ],
   "source": [
    "import random, time, queue\n",
    "from multiprocessing.managers import BaseManager\n",
    "\n",
    "task_queue = queue.Queue()\n",
    "result_queue = queue.Queue()\n",
    "\n",
    "class QueueManager(BaseManager):\n",
    "    pass\n",
    "\n",
    "QueueManager.register('get_task_queue', callable=lambda: task_queue)\n",
    "QueueManager.register('get_result_queue', callable=lambda: result_queue)\n",
    "\n",
    "manager = QueueManager(address=('', 5000), authkey=b'abc')\n",
    "\n",
    "manager.start()\n",
    "\n",
    "task = manager.get_task_queue()\n",
    "result = manager.get_result_queue()\n",
    "\n",
    "for i in range(10):\n",
    "    n = random.randint(0, 10000)\n",
    "    print('Put task %d...' %n)\n",
    "    task.put(n)\n",
    "\n",
    "print('Try get results...')\n",
    "for i in range(10):\n",
    "    r = result.get(timeout=10)\n",
    "    \n",
    "manager.shutdown()\n",
    "print('master exit.')"
   ]
  },
  {
   "cell_type": "code",
   "execution_count": null,
   "metadata": {
    "collapsed": true
   },
   "outputs": [],
   "source": []
  },
  {
   "cell_type": "code",
   "execution_count": null,
   "metadata": {
    "collapsed": true
   },
   "outputs": [],
   "source": []
  }
 ],
 "metadata": {
  "kernelspec": {
   "display_name": "Python 3",
   "language": "python",
   "name": "python3"
  },
  "language_info": {
   "codemirror_mode": {
    "name": "ipython",
    "version": 3
   },
   "file_extension": ".py",
   "mimetype": "text/x-python",
   "name": "python",
   "nbconvert_exporter": "python",
   "pygments_lexer": "ipython3",
   "version": "3.5.2"
  }
 },
 "nbformat": 4,
 "nbformat_minor": 2
}
