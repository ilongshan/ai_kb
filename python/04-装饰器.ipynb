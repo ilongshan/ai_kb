{
 "cells": [
  {
   "cell_type": "markdown",
   "metadata": {},
   "source": [
    "装饰器就是对已有函数添加功能，又可以不去修改原有的函数的方法。它的实现依赖于高阶函数（HOF）。这里主要参考着两篇文章来学习\n",
    "1. [理解 Python 装饰器看这一篇就够了](https://foofish.net/python-decorator.html)\n",
    "2. [Python修饰器的函数式编程 ](http://coolshell.cn/articles/11265.html)\n",
    "3. [Python Decorator Library](https://wiki.python.org/moin/PythonDecoratorLibrary)\n",
    "\n",
    "#### 1. 不带参数的简单装饰器\n",
    "- 使用wrapper(\\*args, \\*\\*kwargs)来接受decoratee的参数\n",
    "\n",
    "#### 2. 带参数的装饰器\n",
    "- 需要两层嵌套函数定义\n",
    "\n",
    "#### 3. 类装饰器\n",
    "- 使用类中定义的__call__(self, \\*args, \\*\\*kwargs)方法来调用decoratee\n",
    "- 需要__init__来初始化需要装饰的函数\n",
    "\n",
    "#### 4. functools.wraps\n",
    "- 用来更新decoratee的元信息\n",
    "- TODO 类装饰器中使用functools.wraps\n",
    "\n",
    "#### 5. 内置装饰器\n",
    "- @staticmethod\n",
    "- @classmethod\n",
    "- @property\n",
    "\n",
    "#### 6. 装饰器的顺序\n",
    "- @a @b @c def f(): pass\n",
    "- =>a(b(c(f))) \n",
    "\n",
    "#### 7. 通过装饰器来修改函数的调用参数，此时需要函数接受可变数量的参数\n",
    "1. 通过给\\*args添加位置元素\n",
    "2. 通过\\*\\*kwargs添加命名参数\n",
    "3. 通过预先的约定在decoratee中有某个参数，然后在decorator中去修改\n",
    "\n",
    "#### 8. decorator经典的用法\n",
    "1. 给函数调用做缓存\n",
    "2. 注册回调函数\n",
    "3. 给函数打日志\n",
    "。。。"
   ]
  },
  {
   "cell_type": "code",
   "execution_count": 6,
   "metadata": {},
   "outputs": [
    {
     "name": "stdout",
     "output_type": "stream",
     "text": [
      "Hello, foo\n",
      "I am Longshan DU\n"
     ]
    }
   ],
   "source": [
    "# 不带参数的简单装饰器\n",
    "def use_logging(func):\n",
    "    def wrapper(*args, **kwargs):\n",
    "        print(\"Hello,\", func.__name__)\n",
    "        func(*args, **kwargs)\n",
    "    return wrapper\n",
    "\n",
    "@use_logging\n",
    "def foo():\n",
    "    print(\"I am Longshan DU\")\n",
    "    \n",
    "\n",
    "foo()"
   ]
  },
  {
   "cell_type": "code",
   "execution_count": 10,
   "metadata": {},
   "outputs": [
    {
     "name": "stdout",
     "output_type": "stream",
     "text": [
      "The log level of foo is 'warn'\n",
      "I am Longshan DU\n"
     ]
    }
   ],
   "source": [
    "# 带参数的装饰器\n",
    "def use_logging(level):\n",
    "    def decorator(func):\n",
    "        def wrapper(*args, **kwargs):\n",
    "            if level == 'warn':\n",
    "                print(\"The log level of %s is 'warn'\" %func.__name__)\n",
    "            elif level == 'info':\n",
    "                print(\"The log level of %s is 'info'\" %func.__name__)\n",
    "            return func(*args, **kwargs)\n",
    "        return wrapper\n",
    "    return decorator\n",
    "\n",
    "@use_logging(level='warn')\n",
    "def foo():\n",
    "    print(\"I am Longshan DU\")\n",
    "\n",
    "foo()"
   ]
  },
  {
   "cell_type": "code",
   "execution_count": 13,
   "metadata": {},
   "outputs": [
    {
     "name": "stdout",
     "output_type": "stream",
     "text": [
      "Class decorator running\n",
      "I am Longshan\n",
      "Class decorator ending\n"
     ]
    }
   ],
   "source": [
    "# 类装饰器\n",
    "class Foo(object):\n",
    "    def __init__(self, func):\n",
    "        self._func = func\n",
    "    def __call__(self, *args, **kwargs):\n",
    "        print('Class decorator running')\n",
    "        self._func(*args, **kwargs)\n",
    "        print('Class decorator ending')\n",
    "@Foo\n",
    "def bar(name):\n",
    "    print('I am', name)\n",
    "    \n",
    "bar('Longshan')"
   ]
  },
  {
   "cell_type": "code",
   "execution_count": 22,
   "metadata": {},
   "outputs": [
    {
     "name": "stdout",
     "output_type": "stream",
     "text": [
      "The log level of foo is 'warn'\n",
      "I am Longshan DU\n",
      "wrapper\n"
     ]
    }
   ],
   "source": [
    "# functools.wraps\n",
    "import functools\n",
    "\n",
    "def use_logging(level):\n",
    "    def decorator(func):\n",
    "        @functools.wraps(func)\n",
    "        def wrapper(*args, **kwargs):\n",
    "            if level == 'warn':\n",
    "                print(\"The log level of %s is 'warn'\" %func.__name__)\n",
    "            elif level == 'info':\n",
    "                print(\"The log level of %s is 'info'\" %func.__name__)\n",
    "            return func(*args, **kwargs)\n",
    "        return wrapper\n",
    "    return decorator\n",
    "\n",
    "@use_logging(level='warn')\n",
    "def foo():\n",
    "    print(\"I am Longshan DU\")\n",
    "\n",
    "foo()\n",
    "print(foo.__name__)"
   ]
  },
  {
   "cell_type": "code",
   "execution_count": 31,
   "metadata": {},
   "outputs": [
    {
     "name": "stdout",
     "output_type": "stream",
     "text": [
      "Class decorator running\n",
      "I am Longshan\n",
      "Class decorator ending\n",
      "Foo\n"
     ]
    }
   ],
   "source": [
    "# 类装饰器\n",
    "import functools\n",
    "\n",
    "class Foo(object):\n",
    "    def __init__(self, func):\n",
    "        self._func = func\n",
    "        functools.wraps(self._func)\n",
    "    def __call__(self, *args, **kwargs):\n",
    "        print('Class decorator running')\n",
    "        \n",
    "        self._func(*args, **kwargs)\n",
    "        print('Class decorator ending')\n",
    "@Foo\n",
    "def bar(name):\n",
    "    print('I am', name)\n",
    "\n",
    "bar('Longshan')\n",
    "print(bar.__class__.__name__)"
   ]
  },
  {
   "cell_type": "code",
   "execution_count": 51,
   "metadata": {},
   "outputs": [
    {
     "name": "stdout",
     "output_type": "stream",
     "text": [
      "Hello Longshan\n",
      "Hello Longshan DU\n",
      "Hello, world!\n"
     ]
    }
   ],
   "source": [
    "# 通过*args修改decoratee的参数\n",
    "def decorate_A(func):\n",
    "    def wrapper(*args, **kwargs):\n",
    "        hello = 'Hello'\n",
    "        args = (hello,) + args\n",
    "        return func(*args, **kwargs)\n",
    "    return wrapper\n",
    "\n",
    "@decorate_A\n",
    "def print_message_A(*name):\n",
    "    print(*name)\n",
    "\n",
    "print_message_A('Longshan')\n",
    "\n",
    "# 通过\\*\\*kwargs修改的decoratee的参数\n",
    "def decorate_B(func):\n",
    "    def wrapper(*args, **kwargs):\n",
    "        kwargs['hello'] = 'Hello'\n",
    "        return func(*args, **kwargs)\n",
    "    return wrapper\n",
    "\n",
    "@decorate_B\n",
    "def print_message_B(*args, **kwargs):\n",
    "    print(kwargs['hello'], *args)\n",
    "    \n",
    "print_message_B('Longshan DU')\n",
    "\n",
    "# 约定好参数，直接修改\n",
    "def decorate_C(func):\n",
    "    def wrapper(*args, **kwargs):\n",
    "        hello = 'Hello, world!'\n",
    "        return func(hello)\n",
    "    return wrapper\n",
    "\n",
    "@decorate_C\n",
    "def print_message_C(hello):\n",
    "    print(hello)\n",
    "    \n",
    "print_message_C('Longshan')"
   ]
  },
  {
   "cell_type": "code",
   "execution_count": 1,
   "metadata": {},
   "outputs": [
    {
     "name": "stdout",
     "output_type": "stream",
     "text": [
      "832040\n"
     ]
    }
   ],
   "source": [
    "# 给函数做缓存\n",
    "from functools import wraps\n",
    "\n",
    "def memo(func):\n",
    "    cache = {}\n",
    "    miss = object()\n",
    "    def wrapper(*args, **kwargs):\n",
    "        result = cache.get(func, miss)\n",
    "        if result is miss:\n",
    "            result = func(*args, **kwargs)\n",
    "            cache[args] = result\n",
    "        return result\n",
    "    return wrapper\n",
    "\n",
    "@memo\n",
    "def fib(n):\n",
    "    if n < 2:\n",
    "        return n\n",
    "    return fib(n-1) + fib(n-2)\n",
    "\n",
    "print(fib(30))"
   ]
  },
  {
   "cell_type": "code",
   "execution_count": 8,
   "metadata": {},
   "outputs": [
    {
     "name": "stdout",
     "output_type": "stream",
     "text": [
      "This is the main page.\n",
      "This is the next page.\n"
     ]
    }
   ],
   "source": [
    "# 注册回调函数\n",
    "class MyApp():\n",
    "    def __init__(self):\n",
    "        self.func_map = {}\n",
    "    \n",
    "    def register(self, name):\n",
    "        def wrapper(func):\n",
    "            self.func_map[name] = func\n",
    "            return func\n",
    "        return wrapper\n",
    "    \n",
    "    def call_method(self, name=None):\n",
    "        func = self.func_map.get(name, None)\n",
    "        if func is None:\n",
    "            raise Exception(\"No functin registered against - \" + str(name))\n",
    "        return func()\n",
    "\n",
    "app = MyApp()\n",
    "\n",
    "@app.register('/')\n",
    "def main_page_func():\n",
    "    return 'This is the main page.'\n",
    "\n",
    "@app.register('/next_page')\n",
    "def next_page_func():\n",
    "    return 'This is the next page.'\n",
    "\n",
    "print(app.call_method('/'))\n",
    "print(app.call_method('/next_page'))"
   ]
  },
  {
   "cell_type": "code",
   "execution_count": null,
   "metadata": {
    "collapsed": true
   },
   "outputs": [],
   "source": []
  }
 ],
 "metadata": {
  "kernelspec": {
   "display_name": "Python 3",
   "language": "python",
   "name": "python3"
  },
  "language_info": {
   "codemirror_mode": {
    "name": "ipython",
    "version": 3
   },
   "file_extension": ".py",
   "mimetype": "text/x-python",
   "name": "python",
   "nbconvert_exporter": "python",
   "pygments_lexer": "ipython3",
   "version": "3.6.1"
  }
 },
 "nbformat": 4,
 "nbformat_minor": 2
}
