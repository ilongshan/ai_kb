{
 "cells": [
  {
   "cell_type": "markdown",
   "metadata": {},
   "source": [
    "#### 1. 切片-原型是` L[startIdx:endIdx:step]`\n",
    "1. step是正数\n",
    "\n",
    "|startIdx<br>_存在_|endIdx<br>_存在_|step<br>_存在_|形式|L = list(range(15)<br>[0, 1, 2, 3, 4, 5, 6, 7, 8, 9, 10, 11, 12, 13, 14]|\n",
    "|:---:|:---:|:---:|:---|:---|\n",
    "|Y|Y|Y|L[1:10:2]|[1, 3, 5, 7, 9]|\n",
    "|N|Y|Y|L[:10:2]|[0, 2, 4, 6, 8]|\n",
    "|Y|N|Y|L[1::2]|[1, 3, 5, 7, 9, 11, 13]|\n",
    "|N|N|Y|L[::2]|[0, 2, 4, 6, 8, 10, 12, 14]|\n",
    "|Y|Y|N|L[1:10]|[1, 2, 3, 4, 5, 6, 7, 8, 9]|\n",
    "|N|Y|N|L[:10]|[0, 1, 2, 3, 4, 5, 6, 7, 8, 9]|\n",
    "|Y|N|N|L[1:]|[1, 2, 3, 4, 5, 6, 7, 8, 9, 10, 11, 12, 13, 14]|\n",
    "|N|N|N|L[:]|[0, 1, 2, 3, 4, 5, 6, 7, 8, 9, 10, 11, 12, 13, 14]|\n",
    "\n",
    "2. step是负数：startIdx的值要**大于**endIdx的值\n",
    "\n",
    "#### 2. 迭代-主要是for...in的使用\n",
    "1. `for ch in 'ABC'`\n",
    "2. `for i, value in enumerate(['A', 'B', 'C'])`\n",
    "3. `for x, y in [(1, 1), (2, 4), (3, 9)]`\n",
    "\n",
    "#### 3. 列表生成式（list comprehension，listcomp）和生成器表达式（generator expression，genexp）\n",
    "1. listcomp用[]包括起来，genexp用()包括起来\n",
    "2. listcomp返回的是一个list，genexp返回的是一个iterator\n",
    "#### 4. 生成器函数 - 含有`yield`关键字的函数，可以使用next()函数来获取下一个输出（statefulness）\n",
    "#### 5. itertools"
   ]
  },
  {
   "cell_type": "code",
   "execution_count": 9,
   "metadata": {},
   "outputs": [
    {
     "name": "stdout",
     "output_type": "stream",
     "text": [
      "[0, 1, 2, 3, 4, 5, 6, 7, 8, 9, 10, 11, 12, 13, 14]\n",
      "[1, 3, 5, 7, 9]\n",
      "[0, 2, 4, 6, 8]\n",
      "[1, 3, 5, 7, 9, 11, 13]\n",
      "[0, 2, 4, 6, 8, 10, 12, 14]\n",
      "[1, 2, 3, 4, 5, 6, 7, 8, 9]\n",
      "[0, 1, 2, 3, 4, 5, 6, 7, 8, 9]\n",
      "[1, 2, 3, 4, 5, 6, 7, 8, 9, 10, 11, 12, 13, 14]\n",
      "[0, 1, 2, 3, 4, 5, 6, 7, 8, 9, 10, 11, 12, 13, 14]\n",
      "[14, 12, 10, 8, 6, 4, 2, 0]\n",
      "[10, 9, 8, 7, 6, 5, 4, 3, 2]\n"
     ]
    }
   ],
   "source": [
    "L = list(range(15))\n",
    "print(L)\n",
    "print(L[1:10:2])\n",
    "print(L[:10:2])\n",
    "print(L[1::2])\n",
    "print(L[::2])\n",
    "print(L[1:10])\n",
    "print(L[:10])\n",
    "print(L[1:])\n",
    "print(L[:])\n",
    "print(L[::-2])\n",
    "print(L[10:1:-1])"
   ]
  },
  {
   "cell_type": "code",
   "execution_count": 14,
   "metadata": {},
   "outputs": [
    {
     "name": "stdout",
     "output_type": "stream",
     "text": [
      "<generator object <genexpr> at 0x10d366678>\n",
      "hello\n",
      "world\n"
     ]
    }
   ],
   "source": [
    "# 列表生成式\n",
    "L = ['Hello', 'World', 18, 'Apple', 'None']\n",
    "# 生成器表达式\n",
    "g = (s.lower() for s in L if isinstance(s, str))\n",
    "print(g)\n",
    "print(next(g))\n",
    "print(next(g))"
   ]
  },
  {
   "cell_type": "code",
   "execution_count": 17,
   "metadata": {},
   "outputs": [
    {
     "name": "stdout",
     "output_type": "stream",
     "text": [
      "0\n",
      "1\n",
      "2\n",
      "3\n",
      "4\n",
      "5\n",
      "6\n",
      "7\n",
      "8\n",
      "9\n",
      "10\n",
      "11\n",
      "12\n",
      "13\n",
      "14\n"
     ]
    },
    {
     "ename": "StopIteration",
     "evalue": "",
     "output_type": "error",
     "traceback": [
      "\u001b[0;31m---------------------------------------------------------------------------\u001b[0m",
      "\u001b[0;31mStopIteration\u001b[0m                             Traceback (most recent call last)",
      "\u001b[0;32m<ipython-input-17-62ccd2430fbd>\u001b[0m in \u001b[0;36m<module>\u001b[0;34m()\u001b[0m\n\u001b[1;32m     19\u001b[0m \u001b[0mprint\u001b[0m\u001b[0;34m(\u001b[0m\u001b[0mnext\u001b[0m\u001b[0;34m(\u001b[0m\u001b[0mg\u001b[0m\u001b[0;34m)\u001b[0m\u001b[0;34m)\u001b[0m\u001b[0;34m\u001b[0m\u001b[0m\n\u001b[1;32m     20\u001b[0m \u001b[0mprint\u001b[0m\u001b[0;34m(\u001b[0m\u001b[0mnext\u001b[0m\u001b[0;34m(\u001b[0m\u001b[0mg\u001b[0m\u001b[0;34m)\u001b[0m\u001b[0;34m)\u001b[0m\u001b[0;34m\u001b[0m\u001b[0m\n\u001b[0;32m---> 21\u001b[0;31m \u001b[0mprint\u001b[0m\u001b[0;34m(\u001b[0m\u001b[0mnext\u001b[0m\u001b[0;34m(\u001b[0m\u001b[0mg\u001b[0m\u001b[0;34m)\u001b[0m\u001b[0;34m)\u001b[0m\u001b[0;34m\u001b[0m\u001b[0m\n\u001b[0m\u001b[1;32m     22\u001b[0m \u001b[0mprint\u001b[0m\u001b[0;34m(\u001b[0m\u001b[0mnext\u001b[0m\u001b[0;34m(\u001b[0m\u001b[0mg\u001b[0m\u001b[0;34m)\u001b[0m\u001b[0;34m)\u001b[0m\u001b[0;34m\u001b[0m\u001b[0m\n",
      "\u001b[0;31mStopIteration\u001b[0m: "
     ]
    }
   ],
   "source": [
    "def get15():\n",
    "    for x in range(15):\n",
    "        yield x\n",
    "    \n",
    "g = get15()\n",
    "print(next(g))\n",
    "print(next(g))\n",
    "print(next(g))\n",
    "print(next(g))\n",
    "print(next(g))\n",
    "print(next(g))\n",
    "print(next(g))\n",
    "print(next(g))\n",
    "print(next(g))\n",
    "print(next(g))\n",
    "print(next(g))\n",
    "print(next(g))\n",
    "print(next(g))\n",
    "print(next(g))\n",
    "print(next(g))\n",
    "print(next(g))\n",
    "print(next(g))\n"
   ]
  },
  {
   "cell_type": "code",
   "execution_count": null,
   "metadata": {
    "collapsed": true
   },
   "outputs": [],
   "source": []
  }
 ],
 "metadata": {
  "kernelspec": {
   "display_name": "Python 3",
   "language": "python",
   "name": "python3"
  },
  "language_info": {
   "codemirror_mode": {
    "name": "ipython",
    "version": 3
   },
   "file_extension": ".py",
   "mimetype": "text/x-python",
   "name": "python",
   "nbconvert_exporter": "python",
   "pygments_lexer": "ipython3",
   "version": "3.6.1"
  }
 },
 "nbformat": 4,
 "nbformat_minor": 2
}
