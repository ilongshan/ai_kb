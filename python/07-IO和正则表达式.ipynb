{
 "cells": [
  {
   "cell_type": "markdown",
   "metadata": {},
   "source": [
    "IO和正则表达式其实不搭。这里只是为了学习的安排把它们放在了一起。\n",
    "#### 1. 文件的读写\n",
    "    - open\n",
    "    - read/readline/readlines\n",
    "    - write\n",
    "    - close\n",
    "    - try...finally方法关闭文件\n",
    "    - with...as...语法关闭文件\n",
    "    - file-like object: 含有read()方法的返回对象，都称为file-like ojbect。StringIO，connected sockets等。\n",
    "    - 二进制文件打开需要使用“*b*”模式：open(\"/home/longshan/hello.txt\", \"rb\")\n",
    "    - python3默认是使用UTF-8格式的编码。如果需要读写其他的编码格式的文件，给open()/write()函数传递encoding参数：open(\"/home/longshan/hello.txt\", encoding=\"gbk\")\n",
    "#### 2. StringIO和BytesIO\n",
    "    - StringIO:在内存中读写str\n",
    "    - BytesIO: 在内存中读写二进制数据。'中文'.encode('utf-8)\n",
    "    - write()/getvalue()/readline()等方法\n",
    "#### 3. 操作文件的目录\n",
    "    - 主要时os/os.path模块中的函数的使用\n",
    "#### 4. 序列化 - 反序列化得到的对象和原来的对象完全无关\n",
    "    - pickling/unpickling: dumps&dump/load\n",
    "    - shiyongjson进行序列化\n",
    "#### 5. 正则表达式\n",
    "    - 正则表达式还是挺复杂的，需要的时候再仔细研究\n",
    "    - python中的re模块用来做正则匹配\n",
    "    - complie->match->groups：compile可以提高效率；match失败返回None；groups()返回所有的分组。group(0)返回原始字符串，group(1)返回第一个括号匹配"
   ]
  },
  {
   "cell_type": "code",
   "execution_count": 12,
   "metadata": {
    "scrolled": true
   },
   "outputs": [
    {
     "name": "stdout",
     "output_type": "stream",
     "text": [
      "#!/bin/bash\n",
      "\n",
      "   #################################################################\n",
      "   #                                                               #\n",
      "   #                 GNOME Layout Manager              \t\t   #\n",
      "   #           Copyright (C) 2017 Bill Mavromatis                  #\n",
      "   #       Licensed under the GNU General Public License 3.0       #\n",
      "   #                                                               #\n",
      "   #  https://github.com/bill-mavromatis/gnome-layout-manager      #\n",
      "   #                                                               #\n",
      "   #################################################################\n",
      "\n",
      "\n",
      "# Check tools availability (zenity, wget, unzip)\n",
      "ZENITY=true\n",
      "command -v zenity >/dev/null 2>&1 || { ZENITY=false; }\n",
      "command -v unzip >/dev/null 2>&1 || {\n",
      "    if [[ $ZENITY == true ]]; then\n",
      "      zenity --error --text=\"Please install unzip!\"\n",
      "    else\n",
      "      echo -e \"\\e[31m\\e[1mPlease install unzip!\\e[0m\"\n",
      "    fi;\n",
      "    exit 1;\n",
      "}\n",
      "\n",
      "Longshan\n",
      "#!/bin/bash\n",
      "\n",
      "   #################################################################\n",
      "   #                                                               #\n",
      "   #                 GNOME Layout Manager              \t\t   #\n",
      "   #           Copyright (C) 2017 Bill Mavromatis                  #\n",
      "   #       Licensed under the GNU General Public License 3.0       #\n",
      "   #                                                               #\n",
      "   #  https://github.com/bill-mavromatis/gnome-layout-manager      #\n",
      "   #                                                               #\n",
      "   #################################################################\n",
      "\n",
      "\n",
      "# Check tools availability (zenity, wget, unzip)\n",
      "ZENITY=true\n",
      "command -v zenity >/dev/null 2>&1 || { ZENITY=false; }\n",
      "command -v unzip >/dev/null 2>&1 || {\n",
      "    if [[ $ZENITY == true ]]; then\n",
      "      zenity --error --text=\"Please install unzip!\"\n",
      "    else\n",
      "      echo -e \"\\e[31m\\e[1mPlease install unzip!\\e[0m\"\n",
      "    fi;\n",
      "    exit 1;\n",
      "}\n",
      "\n"
     ]
    },
    {
     "ename": "TypeError",
     "evalue": "invalid file: <__main__.FileLikeObject object at 0x7f8cc440d048>",
     "output_type": "error",
     "traceback": [
      "\u001b[0;31m---------------------------------------------------------------------------\u001b[0m",
      "\u001b[0;31mTypeError\u001b[0m                                 Traceback (most recent call last)",
      "\u001b[0;32m<ipython-input-12-6fa55ebba3ee>\u001b[0m in \u001b[0;36m<module>\u001b[0;34m()\u001b[0m\n\u001b[1;32m     13\u001b[0m         \u001b[0mprint\u001b[0m\u001b[0;34m(\u001b[0m\u001b[0;34m'Hello, This is a file-like object!'\u001b[0m\u001b[0;34m)\u001b[0m\u001b[0;34m\u001b[0m\u001b[0m\n\u001b[1;32m     14\u001b[0m \u001b[0;34m\u001b[0m\u001b[0m\n\u001b[0;32m---> 15\u001b[0;31m \u001b[0;32mwith\u001b[0m \u001b[0mopen\u001b[0m\u001b[0;34m(\u001b[0m\u001b[0mFileLikeObject\u001b[0m\u001b[0;34m(\u001b[0m\u001b[0;34m)\u001b[0m\u001b[0;34m)\u001b[0m \u001b[0;32mas\u001b[0m \u001b[0mf\u001b[0m\u001b[0;34m:\u001b[0m\u001b[0;34m\u001b[0m\u001b[0m\n\u001b[0m\u001b[1;32m     16\u001b[0m     \u001b[0mf\u001b[0m\u001b[0;34m.\u001b[0m\u001b[0mread\u001b[0m\u001b[0;34m(\u001b[0m\u001b[0;34m)\u001b[0m\u001b[0;34m\u001b[0m\u001b[0m\n",
      "\u001b[0;31mTypeError\u001b[0m: invalid file: <__main__.FileLikeObject object at 0x7f8cc440d048>"
     ]
    }
   ],
   "source": [
    "try:\n",
    "    f = open('/home/longshan/hello.txt', 'r')\n",
    "    print(f.read())\n",
    "finally:\n",
    "    if f:\n",
    "        f.close()\n",
    "with open('/home/longshan/hello.txt', 'r') as f:\n",
    "    print(\"Longshan\")\n",
    "    print(f.read())\n",
    "\n",
    "class FileLikeObject(object):\n",
    "    def read():\n",
    "        print('Hello, This is a file-like object!')\n",
    "        "
   ]
  },
  {
   "cell_type": "code",
   "execution_count": 15,
   "metadata": {},
   "outputs": [
    {
     "name": "stdout",
     "output_type": "stream",
     "text": [
      "Hello\n",
      "Hi\n",
      "Goodbye\n"
     ]
    }
   ],
   "source": [
    "from io import StringIO\n",
    "f = StringIO('Hello\\nHi\\nGoodbye')\n",
    "while True:\n",
    "    s = f.readline()\n",
    "    if s == '':\n",
    "        break\n",
    "    print(s.strip())\n",
    "\n",
    "    "
   ]
  },
  {
   "cell_type": "code",
   "execution_count": 17,
   "metadata": {},
   "outputs": [
    {
     "data": {
      "text/plain": [
       "b'\\xe4\\xb8\\xad\\xe6\\x96\\x87'"
      ]
     },
     "execution_count": 17,
     "metadata": {},
     "output_type": "execute_result"
    }
   ],
   "source": [
    "from io import BytesIO\n",
    "#f = BytesIO()\n",
    "#f.write('中文'.encode('utf-8'))\n",
    "f = BytesIO('中文'.encode('utf-8'))\n",
    "f.read()"
   ]
  },
  {
   "cell_type": "code",
   "execution_count": 37,
   "metadata": {},
   "outputs": [
    {
     "data": {
      "text/plain": [
       "['home',\n",
       " 'etc',\n",
       " 'media',\n",
       " 'bin',\n",
       " 'boot',\n",
       " 'dev',\n",
       " 'lib',\n",
       " 'lib64',\n",
       " 'mnt',\n",
       " 'opt',\n",
       " 'proc',\n",
       " 'root',\n",
       " 'run',\n",
       " 'sbin',\n",
       " 'snap',\n",
       " 'srv',\n",
       " 'sys',\n",
       " 'tmp',\n",
       " 'usr',\n",
       " 'var',\n",
       " 'cdrom',\n",
       " 'lib32']"
      ]
     },
     "execution_count": 37,
     "metadata": {},
     "output_type": "execute_result"
    }
   ],
   "source": [
    "import os\n",
    "os.name\n",
    "os.uname()\n",
    "os.environ\n",
    "os.path.abspath('.')\n",
    "os.path.join('/home', 'longshan')\n",
    "os.path.split('/home/longshan/hello.txt')\n",
    "os.path.splitext('/home/longshan/hello')\n",
    "[x for x in os.listdir('/') if os.path.isdir(os.path.join('/', x))]"
   ]
  },
  {
   "cell_type": "code",
   "execution_count": 42,
   "metadata": {},
   "outputs": [
    {
     "name": "stdout",
     "output_type": "stream",
     "text": [
      "{\"age\": 29, \"score\": 89, \"name\": \"Longshan\"}\n",
      "<__main__.Student object at 0x7f8cc440d550>\n"
     ]
    }
   ],
   "source": [
    "import json\n",
    "class Student(object):\n",
    "    def __init__(self, name, age, score):\n",
    "        self.name = name\n",
    "        self.age = age\n",
    "        self.score = score\n",
    "def student2dict(std):\n",
    "    return{\n",
    "        'name': std.name,\n",
    "        'age': std.age,\n",
    "        'score': std.score\n",
    "    }\n",
    "\n",
    "def dict2student(d):\n",
    "    return Student(d['name'], d['age'], d['score'])\n",
    "\n",
    "s = Student('Longshan', 29, 89)\n",
    "print(json.dumps(s, default=student2dict))\n",
    "json_str = '{\"name\": \"Longshan DU\", \"age\": 25, \"score\": 95}'\n",
    "print(json.loads(json_str, object_hook=dict2student))"
   ]
  },
  {
   "cell_type": "code",
   "execution_count": 46,
   "metadata": {},
   "outputs": [
    {
     "name": "stdout",
     "output_type": "stream",
     "text": [
      "('1023', '00')\n",
      "102300\n",
      "1023\n",
      "00\n"
     ]
    }
   ],
   "source": [
    "import re\n",
    "print(re.match(r'^(\\d+?)(0*)$', '102300').groups())\n",
    "print(re.match(r'^(\\d+?)(0*)$', '102300').group(0))\n",
    "print(re.match(r'^(\\d+?)(0*)$', '102300').group(1))\n",
    "print(re.match(r'^(\\d+?)(0*)$', '102300').group(2))"
   ]
  },
  {
   "cell_type": "code",
   "execution_count": null,
   "metadata": {
    "collapsed": true
   },
   "outputs": [],
   "source": []
  }
 ],
 "metadata": {
  "kernelspec": {
   "display_name": "Python 3",
   "language": "python",
   "name": "python3"
  },
  "language_info": {
   "codemirror_mode": {
    "name": "ipython",
    "version": 3
   },
   "file_extension": ".py",
   "mimetype": "text/x-python",
   "name": "python",
   "nbconvert_exporter": "python",
   "pygments_lexer": "ipython3",
   "version": "3.5.2"
  }
 },
 "nbformat": 4,
 "nbformat_minor": 2
}
