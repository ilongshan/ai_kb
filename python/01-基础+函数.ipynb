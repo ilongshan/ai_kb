{
 "cells": [
  {
   "cell_type": "markdown",
   "metadata": {},
   "source": [
    "#### 1. Python的解释器常见的有哪些？\n",
    "#### 2. Python的option有哪些（python -h）？\n",
    "#### 3. Python文件开头加上shebang/hashbang/sha-bang/she-bang/sh-bang\n",
    "1. #!/usr/bin/python\n",
    "2. #!/usr/bin/env python\n",
    "\n",
    "#### 4. 学习提供的learning.py文件。\n",
    "[learning.py](https://raw.githubusercontent.com/michaelliao/learn-python3/master/teach/learning.py)\n",
    "#### 5. print()函数\n",
    "1. print()会依次打印它的参数，遇到一个“,”会自动的打印一个空格\n",
    "\n",
    "#### 6. Python大小写敏感\n",
    "#### 7. Python中不需要指定变量的类型。所谓python的数据类型指的是变量所指的内存中_对象_的类型\n",
    "1. number\n",
    "    - int\n",
    "    - float\n",
    "    - bool\n",
    "    - complex\n",
    "    \n",
    "2. string\n",
    "    - 对于string来说双引号(`\"`)和单引号(`'`)没有区别。只不过单引号中的双引号不需要转义，反之亦然。\n",
    "    - raw字符串用`r''`表示，内部的字符串不用转义。\n",
    "    - 用（`'''...'''`）的格式可以表示多行的内容而不同显式的插入换行符`\\n`\n",
    "    - python3中字符串是用unicode编码的\n",
    "    - ord()函数获取字符的整数表示，chr()把编码转化成对应的字符：`ord('o')`, `chr(23566)`\n",
    "    - bytes类型的数据用带`b`前缀来表示：`x = b'ABC'`。`type(x) => <class 'bytes'>, len(x)=3`\n",
    "    - str和bytes类型之间的转化：`str.encode('charset')=>bytes; bytes.decode('charset')=>str`\n",
    "    - len()函数在计算`str`和`bytes`时的方法：计算str的字符数，计算bytes的字节数。\n",
    "    - 输出时的格式化：使用%, %d, %f, %s, %x。`'%05d-%s' %(3, \"hello\")`\n",
    "3. list\n",
    "    - 空的list：`a = []; b = list()`\n",
    "    - 索引位置：左边从0开始;右边从-1开始\n",
    "    - 常用操作：append(), insert(idx, elem); pop(idx)\n",
    "4. tuple\n",
    "    - 空的tuple：`a = (); a = tuple()`\n",
    "    - 含有一个元素的tuple：`a = (10,); a = tuple([10])`\n",
    "    - tuple不可变，但是包含的元素可以变：`a = ('a', 'b', ['A', 'B'])`\n",
    "5. set\n",
    "    - 空的set：`a = set()`\n",
    "    - 创建一个set，需要提供一个list作为输入集合：`a = set([10, 14])`\n",
    "    - set不能有重复的元素，所以可以用来去重：`a = [1, 2, 3, 2, 4, 6, 2]; b = set(a); a = list(b)`\n",
    "    - set中的元素是无序的\n",
    "    - set常用的操作：add(key), remove(key), s1 & s2, s1 | s2, s1 - s2\n",
    "6. dict\n",
    "    - 空的dict：`a = {}; a = dict()`\n",
    "    - 当dict中存在key:value对时，后面如果加入相同的key，那么会更新已存在的value\n",
    "    - 使用`d[key]`去获得value时，如果key不存在那么将会报错。\n",
    "        - 使用`in`语法判断key是不是存在\n",
    "        - 使用`d.get(key)`方法，该方法还可以指定default值`d.get(key, defvalue)`\n",
    "7. list v.s. dict\n",
    "\n",
    "||速度|内存|\n",
    "| ------ | ------ | ------ |\n",
    "|list|查找和插入的时间随着元素的增加而增加|占用空间小，内存浪费少|\n",
    "|dict|查找和插入的速度极快，不会随着key的增加而变慢|占用大量的内存，内存浪费多|\n",
    "\n",
    "#### 8. Python中实际上并没有常量或是说没有机制可以保证所谓常量的值不变。例如PI=3.14159265359是一个常量，但是依然可以给PI重新赋值。\n",
    "#### 9. Python中的两种除法\n",
    "1. `/`  10 / 3 = 3.3333333333333335\n",
    "2. `//` 10 // 3 = 3\n",
    "\n",
    "#### 10. 条件判断：if...elif...else\n",
    "#### 11. 循环语句：for... in, while, for...in...else, while...else\n",
    "    - for...in...else和while...else中的else语句会在for/while正常执行完毕之后调用。如果循环由于break语句而跳出，那么else语句将不会执行。\n",
    "#### 12. 函数定义，参数以及递归\n",
    "1. 定义\n",
    "    - `def`关键字\n",
    "    - 没有`return`语句，函数返回的是`None`\n",
    "    - `return None`，可以简写为`return`\n",
    "    - 空函数的函数体使用`pass`作为占位符。`pass`还可以用到其他的语句中\n",
    "    - 函数可以返回多个值，相当于返回的时一个tuple\n",
    "2. 参数\n",
    "    - 位置参数\n",
    "    - 默认参数\n",
    "        - 必选参数在前，默认参数在后\n",
    "        - 变化大的参数放在前面，变化小的参数放到后面，可以充分的利用默认参数的便利性\n",
    "        - 默认参数可以使用参数名字来指定将value传给哪一个参数\n",
    "        - 默认参数和可变对象&不可变对象。此处有坑。\n",
    "    - 可变参数\n",
    "        - 使用list/tuple实现，这样在调用的时候需要传入list/tuple\n",
    "        - 使用`*`实现，这样在调用的时候就可以一个一个的传入参数。如果传入的是list/tuple那么需要使用`*`来解包，但是内部还是将所有的参数自动组装成为一个tuple\n",
    "    - 关键字参数\n",
    "        - 使用`**`实现，这样在调用的时候就可以传入任意多的含参数名的参数。在内部这些参数名和参数组成dict\n",
    "    - 命名关键字参数\n",
    "        - 命名关键字参数需要一个特殊分割符`*`，`*`之后的参数被命名为关键字参数：`def person(name, age, *, city, job)`\n",
    "        - 如果已经定义了可变参数，后面的命名关键字参数就不需要再加`*`了：`def person(name, age, *arg, city, job)`\n",
    "        - 命名关键字参数必须传入参数名\n",
    "        - 命名关键字参数可以有default值\n",
    "    - 参数组合\n",
    "        - 必选参数，默认参数，可变参数，命名关键字参数和关键字参数可以按照以上顺序组合使用\n",
    "3. 递归\n",
    "    - 有栈溢出的风险，可以通过**尾递归**来优化\n",
    "    - Python的标准解释器并没有针对**尾递归**进行优化"
   ]
  },
  {
   "cell_type": "code",
   "execution_count": 52,
   "metadata": {
    "collapsed": true
   },
   "outputs": [
    {
     "name": "stdout",
     "output_type": "stream",
     "text": [
      "<class 'int'> <class 'float'> <class 'bool'> <class 'complex'> <class 'int'>\n",
      "<class 'str'> <class 'bool'>\n",
      "<class 'list'> <class 'set'> <class 'dict'>\n"
     ]
    }
   ],
   "source": [
    "##测试几种变量的类型\n",
    "a, b, c, d, e = 1, 2.3, True, 4+5j, 10000000000000000000000000000000000000000000000\n",
    "print(type(a), type(b), type(c), type(d), type(e))\n",
    "f = 'Hello, Python!'\n",
    "g = True\n",
    "print(type(f), type(g))\n",
    "h, i, j = [], set(), {}\n",
    "print(type(h), type(i), type(j))\n",
    "#所有的这些都是类（class）"
   ]
  },
  {
   "cell_type": "code",
   "execution_count": 53,
   "metadata": {},
   "outputs": [
    {
     "data": {
      "text/plain": [
       "(3.3333333333333335, 3, 1)"
      ]
     },
     "execution_count": 53,
     "metadata": {},
     "output_type": "execute_result"
    }
   ],
   "source": [
    "10/3, 10//3, 10 % 3"
   ]
  },
  {
   "cell_type": "code",
   "execution_count": 54,
   "metadata": {},
   "outputs": [
    {
     "data": {
      "text/plain": [
       "(111, '導')"
      ]
     },
     "execution_count": 54,
     "metadata": {},
     "output_type": "execute_result"
    }
   ],
   "source": [
    "ord('o'), chr(23566)"
   ]
  },
  {
   "cell_type": "code",
   "execution_count": 55,
   "metadata": {},
   "outputs": [
    {
     "name": "stdout",
     "output_type": "stream",
     "text": [
      "<class 'bytes'>\n",
      "3\n"
     ]
    }
   ],
   "source": [
    "x = b'ABC'\n",
    "print(type(x))\n",
    "print(len(x))"
   ]
  },
  {
   "cell_type": "code",
   "execution_count": 56,
   "metadata": {},
   "outputs": [
    {
     "name": "stdout",
     "output_type": "stream",
     "text": [
      "b'\\xe4\\xb8\\xad\\xe6\\x96\\x87'\n"
     ]
    },
    {
     "data": {
      "text/plain": [
       "6"
      ]
     },
     "execution_count": 56,
     "metadata": {},
     "output_type": "execute_result"
    }
   ],
   "source": [
    "print('中文'.encode('utf-8'))\n",
    "len('中文'.encode('utf-8'))"
   ]
  },
  {
   "cell_type": "code",
   "execution_count": 57,
   "metadata": {},
   "outputs": [
    {
     "data": {
      "text/plain": [
       "'00003-hello'"
      ]
     },
     "execution_count": 57,
     "metadata": {},
     "output_type": "execute_result"
    }
   ],
   "source": [
    "'%05d-%s' %(3, \"hello\")"
   ]
  },
  {
   "cell_type": "code",
   "execution_count": 34,
   "metadata": {},
   "outputs": [
    {
     "ename": "TypeError",
     "evalue": "'int' object is not iterable",
     "output_type": "error",
     "traceback": [
      "\u001b[0;31m---------------------------------------------------------------------------\u001b[0m",
      "\u001b[0;31mTypeError\u001b[0m                                 Traceback (most recent call last)",
      "\u001b[0;32m<ipython-input-34-a13887db7fc7>\u001b[0m in \u001b[0;36m<module>\u001b[0;34m()\u001b[0m\n\u001b[1;32m      1\u001b[0m \u001b[0ma\u001b[0m \u001b[0;34m=\u001b[0m \u001b[0mlist\u001b[0m\u001b[0;34m(\u001b[0m\u001b[0;34m)\u001b[0m\u001b[0;34m\u001b[0m\u001b[0m\n\u001b[1;32m      2\u001b[0m \u001b[0ma\u001b[0m \u001b[0;34m=\u001b[0m \u001b[0mtuple\u001b[0m\u001b[0;34m(\u001b[0m\u001b[0;34m'a'\u001b[0m\u001b[0;34m)\u001b[0m\u001b[0;34m\u001b[0m\u001b[0m\n\u001b[0;32m----> 3\u001b[0;31m \u001b[0ma\u001b[0m \u001b[0;34m=\u001b[0m \u001b[0mtuple\u001b[0m\u001b[0;34m(\u001b[0m\u001b[0;36m10\u001b[0m\u001b[0;34m)\u001b[0m\u001b[0;34m\u001b[0m\u001b[0m\n\u001b[0m",
      "\u001b[0;31mTypeError\u001b[0m: 'int' object is not iterable"
     ]
    }
   ],
   "source": [
    "a = list()\n",
    "a = tuple('a')\n",
    "a = tuple(10)"
   ]
  },
  {
   "cell_type": "code",
   "execution_count": 37,
   "metadata": {},
   "outputs": [
    {
     "name": "stdout",
     "output_type": "stream",
     "text": [
      "<class 'set'>\n",
      "{10}\n"
     ]
    }
   ],
   "source": [
    "a = set([10])\n",
    "print(type(a))\n",
    "print(a)"
   ]
  },
  {
   "cell_type": "code",
   "execution_count": 48,
   "metadata": {},
   "outputs": [
    {
     "name": "stdout",
     "output_type": "stream",
     "text": [
      "[1, 2, 3, 4, 6]\n",
      "{1, 2, 3, 4, 6}\n",
      "{2, 3, 4, 5}\n",
      "{1, 6}\n",
      "{1, 2, 3, 4, 5, 6}\n"
     ]
    }
   ],
   "source": [
    "a = [1, 2, 3, 2, 4, 6, 2]\n",
    "b = set(a)\n",
    "a = list(b)\n",
    "print(a)\n",
    "print(b)\n",
    "c = set([2, 3, 4, 5])\n",
    "print(c)\n",
    "print(b - c)\n",
    "print(b | c)"
   ]
  },
  {
   "cell_type": "code",
   "execution_count": 60,
   "metadata": {},
   "outputs": [
    {
     "name": "stdout",
     "output_type": "stream",
     "text": [
      "x = 151.961524, y = 70.000000\n"
     ]
    }
   ],
   "source": [
    "import math\n",
    "def move(x, y, step, angle=0):\n",
    "    nx = x + step * math.cos(angle)\n",
    "    ny = y - step * math.sin(angle)\n",
    "    return nx, ny\n",
    "x, y = move(100, 100, 60, math.pi/6)\n",
    "print('x = %f, y = %f' %(x, y))"
   ]
  },
  {
   "cell_type": "code",
   "execution_count": 3,
   "metadata": {},
   "outputs": [
    {
     "name": "stdout",
     "output_type": "stream",
     "text": [
      "['END']\n",
      "['END', 'END']\n",
      "['END']\n",
      "['END']\n"
     ]
    }
   ],
   "source": [
    "def add_end(L = []):\n",
    "    L.append(\"END\")\n",
    "    return L\n",
    "\n",
    "print(add_end())\n",
    "print(add_end())\n",
    "\n",
    "#这里L要使用不可变对象\n",
    "def add_end(L = None):\n",
    "    if L is None:\n",
    "        L = []\n",
    "    L.append('END')\n",
    "    return L\n",
    "print(add_end())\n",
    "print(add_end())"
   ]
  },
  {
   "cell_type": "code",
   "execution_count": 7,
   "metadata": {},
   "outputs": [
    {
     "name": "stdout",
     "output_type": "stream",
     "text": [
      "18\n",
      "<class 'tuple'>\n",
      "15\n",
      "<class 'tuple'>\n",
      "15\n",
      "<class 'tuple'>\n"
     ]
    },
    {
     "ename": "TypeError",
     "evalue": "unsupported operand type(s) for +: 'int' and 'list'",
     "output_type": "error",
     "traceback": [
      "\u001b[0;31m---------------------------------------------------------------------------\u001b[0m",
      "\u001b[0;31mTypeError\u001b[0m                                 Traceback (most recent call last)",
      "\u001b[0;32m<ipython-input-7-618179ba48e1>\u001b[0m in \u001b[0;36m<module>\u001b[0;34m()\u001b[0m\n\u001b[1;32m     16\u001b[0m \u001b[0mprint\u001b[0m\u001b[0;34m(\u001b[0m\u001b[0mcalc\u001b[0m\u001b[0;34m(\u001b[0m\u001b[0;36m1\u001b[0m\u001b[0;34m,\u001b[0m \u001b[0;36m2\u001b[0m\u001b[0;34m,\u001b[0m \u001b[0;36m3\u001b[0m\u001b[0;34m,\u001b[0m \u001b[0;36m4\u001b[0m\u001b[0;34m,\u001b[0m \u001b[0;36m5\u001b[0m\u001b[0;34m)\u001b[0m\u001b[0;34m)\u001b[0m\u001b[0;34m\u001b[0m\u001b[0m\n\u001b[1;32m     17\u001b[0m \u001b[0mprint\u001b[0m\u001b[0;34m(\u001b[0m\u001b[0mcalc\u001b[0m\u001b[0;34m(\u001b[0m\u001b[0;34m*\u001b[0m\u001b[0;34m[\u001b[0m\u001b[0;36m1\u001b[0m\u001b[0;34m,\u001b[0m \u001b[0;36m2\u001b[0m\u001b[0;34m,\u001b[0m \u001b[0;36m3\u001b[0m\u001b[0;34m,\u001b[0m \u001b[0;36m4\u001b[0m\u001b[0;34m,\u001b[0m \u001b[0;36m5\u001b[0m\u001b[0;34m]\u001b[0m\u001b[0;34m)\u001b[0m\u001b[0;34m)\u001b[0m\u001b[0;34m\u001b[0m\u001b[0m\n\u001b[0;32m---> 18\u001b[0;31m \u001b[0mprint\u001b[0m\u001b[0;34m(\u001b[0m\u001b[0mcalc\u001b[0m\u001b[0;34m(\u001b[0m\u001b[0;34m[\u001b[0m\u001b[0;36m1\u001b[0m\u001b[0;34m,\u001b[0m \u001b[0;36m2\u001b[0m\u001b[0;34m,\u001b[0m \u001b[0;36m3\u001b[0m\u001b[0;34m,\u001b[0m \u001b[0;36m4\u001b[0m\u001b[0;34m,\u001b[0m \u001b[0;36m5\u001b[0m\u001b[0;34m]\u001b[0m\u001b[0;34m)\u001b[0m\u001b[0;34m)\u001b[0m\u001b[0;34m\u001b[0m\u001b[0m\n\u001b[0m",
      "\u001b[0;32m<ipython-input-7-618179ba48e1>\u001b[0m in \u001b[0;36mcalc\u001b[0;34m(*numbers)\u001b[0m\n\u001b[1;32m     11\u001b[0m     \u001b[0mprint\u001b[0m\u001b[0;34m(\u001b[0m\u001b[0mtype\u001b[0m\u001b[0;34m(\u001b[0m\u001b[0mnumbers\u001b[0m\u001b[0;34m)\u001b[0m\u001b[0;34m)\u001b[0m\u001b[0;34m\u001b[0m\u001b[0m\n\u001b[1;32m     12\u001b[0m     \u001b[0;32mfor\u001b[0m \u001b[0mnum\u001b[0m \u001b[0;32min\u001b[0m \u001b[0mnumbers\u001b[0m\u001b[0;34m:\u001b[0m\u001b[0;34m\u001b[0m\u001b[0m\n\u001b[0;32m---> 13\u001b[0;31m         \u001b[0msum\u001b[0m \u001b[0;34m=\u001b[0m \u001b[0msum\u001b[0m \u001b[0;34m+\u001b[0m \u001b[0mnum\u001b[0m\u001b[0;34m\u001b[0m\u001b[0m\n\u001b[0m\u001b[1;32m     14\u001b[0m     \u001b[0;32mreturn\u001b[0m \u001b[0msum\u001b[0m\u001b[0;34m\u001b[0m\u001b[0m\n\u001b[1;32m     15\u001b[0m \u001b[0;34m\u001b[0m\u001b[0m\n",
      "\u001b[0;31mTypeError\u001b[0m: unsupported operand type(s) for +: 'int' and 'list'"
     ]
    }
   ],
   "source": [
    "def calc(numbers):\n",
    "    sum = 0\n",
    "    for num in numbers:\n",
    "        sum = sum + num\n",
    "    return sum\n",
    "\n",
    "print(calc([1, 2, 4, 5, 6]))\n",
    "\n",
    "def calc(*numbers):\n",
    "    sum = 0\n",
    "    print(type(numbers))\n",
    "    for num in numbers:\n",
    "        sum = sum + num\n",
    "    return sum\n",
    "\n",
    "print(calc(1, 2, 3, 4, 5))\n",
    "print(calc(*[1, 2, 3, 4, 5]))\n",
    "print(calc([1, 2, 3, 4, 5]))"
   ]
  },
  {
   "cell_type": "code",
   "execution_count": 62,
   "metadata": {},
   "outputs": [
    {
     "name": "stdout",
     "output_type": "stream",
     "text": [
      "name:  Longshan age:  30 others:  {'city': 'Beijing'}\n"
     ]
    }
   ],
   "source": [
    "def person(name, age, **kw):\n",
    "    print('name: ', name, \"age: \", age, \"others: \", kw)\n",
    "\n",
    "person('Longshan', 30, city='Beijing')"
   ]
  },
  {
   "cell_type": "code",
   "execution_count": null,
   "metadata": {
    "collapsed": true
   },
   "outputs": [],
   "source": []
  }
 ],
 "metadata": {
  "kernelspec": {
   "display_name": "Python 3",
   "language": "python",
   "name": "python3"
  },
  "language_info": {
   "codemirror_mode": {
    "name": "ipython",
    "version": 3
   },
   "file_extension": ".py",
   "mimetype": "text/x-python",
   "name": "python",
   "nbconvert_exporter": "python",
   "pygments_lexer": "ipython3",
   "version": "3.5.2"
  }
 },
 "nbformat": 4,
 "nbformat_minor": 2
}
