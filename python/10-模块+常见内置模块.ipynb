{
 "cells": [
  {
   "cell_type": "markdown",
   "metadata": {},
   "source": [
    "所谓模块（module）其实就是在函数/变量名字前加前缀的一种方式。这样1）便于组织和重用相同功能的代码2）避免函数名和变量名的冲突。\n",
    "#### 1. 模块中定义的变量\n",
    "    - __name__：如果该模块被执行（python moduleName.py），那么__name__=='__main__'；如果模块被import，那么__name__=='__moduleName__'。\n",
    "    - __author__：定义作者名字\n",
    "    - dir(moduleName)输出模块中的变量和函数\n",
    "#### 2. 模块中变量的作用域\n",
    "    - 和类中变量命名相似。python没有去限制private函数或是变量的引用，但是我们一般要自行的去遵循常见的python命名规则。\n",
    "#### 3. 第三方模块的安装和使用\n",
    "    - 使用pip/pip3来安装（当然还有其他方法）\n",
    "    - 模块的搜索路径：sys.path/sys.path.append('own_path');设置PYTHONPATH\n",
    "#### 4. 常用内置模块\n",
    "    - datetime (import datetime)\n",
    "        object\n",
    "            timedelta\n",
    "            tzinfo\n",
    "                timezone\n",
    "            time\n",
    "            date\n",
    "                datetime\n",
    "    - collections (import collections)\n",
    "        - namedtuple：可以按属性引用`p = namedtuple('Point', ['x', 'y']); p = Point(1, 2); print(p.x, p.y)`\n",
    "        - deque：双向的插入和删除`q = deque(['a', 'b', 'c']); q.appendleft('d')`\n",
    "        - defaultdict：key不存在的时候返回默认值，而不是抛出KeyError错误。`dd = defaultdict(lambda: 'N/A'); dd['key1']='abc'; dd['key1']=>'abc'; dd['key2']=>'N/A'`\n",
    "        - OrderedDict：key是有序的\n",
    "        - Counter：简单的计数器，是dict的子类\n",
    "    - base64 (import base64)\n",
    "        - 任意二进制到文本字符串的编码方法\n",
    "        - 3字节转成4个6bit组，然后查表得到转换之后对应的字符\n",
    "        - 不同的条件下，文本字符串集合会有一些差别\n",
    "    - struct：import struct\n",
    "        - pack/unpack\n",
    "        - 参数处理指令：big-endian/little-edian, IH...\n",
    "    - hashlib：import hashlib\n",
    "        - md5\n",
    "    - itertools：import itertools\n",
    "        - itertools用于操作壳迭代对象\n",
    "        - count()/cycle()/repeat()\n",
    "        - chain()/groupby()\n",
    "    - contextlib：import contextlib\n",
    "        - 上下文管理器，预处理（pre）和后处理（post）\n",
    "        - 实现__enter__和__exit__两个方法来实现上下文管理\n",
    "        - @contextmanager配合yield\n",
    "        - closing方法实现自动资源回收"
   ]
  },
  {
   "cell_type": "code",
   "execution_count": 8,
   "metadata": {},
   "outputs": [
    {
     "name": "stdout",
     "output_type": "stream",
     "text": [
      "os\n"
     ]
    }
   ],
   "source": [
    "import os\n",
    "dir(os)\n",
    "\n",
    "print(os.__name__)\n",
    "#print(os.__all__)"
   ]
  },
  {
   "cell_type": "code",
   "execution_count": 22,
   "metadata": {},
   "outputs": [
    {
     "name": "stdout",
     "output_type": "stream",
     "text": [
      "1\n",
      "9999\n",
      "['__add__', '__class__', '__delattr__', '__dir__', '__doc__', '__eq__', '__format__', '__ge__', '__getattribute__', '__gt__', '__hash__', '__init__', '__init_subclass__', '__le__', '__lt__', '__ne__', '__new__', '__radd__', '__reduce__', '__reduce_ex__', '__repr__', '__rsub__', '__setattr__', '__sizeof__', '__str__', '__sub__', '__subclasshook__', 'ctime', 'day', 'fromordinal', 'fromtimestamp', 'isocalendar', 'isoformat', 'isoweekday', 'max', 'min', 'month', 'replace', 'resolution', 'strftime', 'timetuple', 'today', 'toordinal', 'weekday', 'year']\n",
      "-1 day, 23:59:59.999999\n",
      "-999999999 days, 0:00:00 999999999 days, 23:59:59.999999 0:00:00.000001\n",
      "====================================================\n",
      "31536000.0\n",
      "False\n",
      "3650 days, 0:00:00\n",
      "0:09:00\n",
      "1.0000171235808832\n"
     ]
    }
   ],
   "source": [
    "import datetime\n",
    "from datetime import timedelta\n",
    "print(datetime.MINYEAR)\n",
    "print(datetime.MAXYEAR)\n",
    "print(dir(datetime.date))\n",
    "print(timedelta(microseconds=-1)) ## normalization的结果\n",
    "print(timedelta.min, timedelta.max, timedelta.resolution)\n",
    "\n",
    "print('====================================================')\n",
    "year = timedelta(days=365)\n",
    "another_year = timedelta(weeks=40, days=84, hours=23, minutes=50, seconds=60)\n",
    "print(year.total_seconds())\n",
    "print(year == another_year)\n",
    "print(year * 10)\n",
    "print(year - another_year)\n",
    "print(year / another_year)"
   ]
  },
  {
   "cell_type": "code",
   "execution_count": 28,
   "metadata": {},
   "outputs": [
    {
     "name": "stdout",
     "output_type": "stream",
     "text": [
      "2017-06-25\n",
      "736505\n",
      "6\n",
      "7\n",
      "(2017, 25, 7)\n",
      "time.struct_time(tm_year=2017, tm_mon=6, tm_mday=25, tm_hour=0, tm_min=0, tm_sec=0, tm_wday=6, tm_yday=176, tm_isdst=-1)\n",
      "(2017, 6, 25)\n",
      "2017-06-25\n"
     ]
    }
   ],
   "source": [
    "from datetime import date\n",
    "print(date.today())\n",
    "d = date.today()\n",
    "print(d.toordinal())\n",
    "print(d.weekday())\n",
    "print(d.isoweekday())\n",
    "print(d.isocalendar())\n",
    "print(d.timetuple())\n",
    "print((d.year, d.month, d.day))\n",
    "print(d.isoformat())"
   ]
  },
  {
   "cell_type": "code",
   "execution_count": 41,
   "metadata": {},
   "outputs": [
    {
     "name": "stdout",
     "output_type": "stream",
     "text": [
      "2017-06-25 08:53:06.775299\n",
      "2017-06-25 12:30:00\n",
      "time.struct_time(tm_year=2017, tm_mon=6, tm_mday=25, tm_hour=8, tm_min=53, tm_sec=6, tm_wday=6, tm_yday=176, tm_isdst=-1)\n",
      "(2017, 25, 7)\n"
     ]
    }
   ],
   "source": [
    "from datetime import datetime\n",
    "from datetime import date\n",
    "from datetime import time\n",
    "\n",
    "print(datetime.utcnow())\n",
    "print(datetime.combine(date.today(), time(12, 30)))\n",
    "print(datetime.utcnow().timetuple())\n",
    "print(datetime.utcnow().isocalendar())"
   ]
  },
  {
   "cell_type": "code",
   "execution_count": 6,
   "metadata": {},
   "outputs": [
    {
     "name": "stdout",
     "output_type": "stream",
     "text": [
      "Point(x=1, y=2, z=3)\n"
     ]
    }
   ],
   "source": [
    "import collections\n",
    "\n",
    "Point3D = collections.namedtuple('Point', ['x', 'y', 'z'])\n",
    "p3 = Point3D(1, 2 ,3)\n",
    "print(p3)"
   ]
  },
  {
   "cell_type": "code",
   "execution_count": 8,
   "metadata": {},
   "outputs": [
    {
     "data": {
      "text/plain": [
       "b'SGVsbG8sIExvbmdzaGFuIQ=='"
      ]
     },
     "execution_count": 8,
     "metadata": {},
     "output_type": "execute_result"
    }
   ],
   "source": [
    "import base64\n",
    "\n",
    "s = b'Hello, Longshan!'\n",
    "base64.b64encode(s)"
   ]
  },
  {
   "cell_type": "code",
   "execution_count": 10,
   "metadata": {},
   "outputs": [
    {
     "data": {
      "text/plain": [
       "(b'B', b'M', 691256, 0, 54, 40, 640, 360, 1, 24)"
      ]
     },
     "execution_count": 10,
     "metadata": {},
     "output_type": "execute_result"
    }
   ],
   "source": [
    "import struct\n",
    "\n",
    "struct.pack('>I', 10240099)\n",
    "s = b'\\x42\\x4d\\x38\\x8c\\x0a\\x00\\x00\\x00\\x00\\x00\\x36\\x00\\x00\\x00\\x28\\x00\\x00\\x00\\x80\\x02\\x00\\x00\\x68\\x01\\x00\\x00\\x01\\x00\\x18\\x00'\n",
    "struct.unpack('<ccIIIIIIHH', s)"
   ]
  },
  {
   "cell_type": "code",
   "execution_count": 13,
   "metadata": {},
   "outputs": [
    {
     "name": "stdout",
     "output_type": "stream",
     "text": [
      "1f76714a20b6c8a644df1a161694830d\n"
     ]
    }
   ],
   "source": [
    "import hashlib\n",
    "\n",
    "m = hashlib.md5('Hello, Longhshan'.encode('utf-8'))\n",
    "print(m.hexdigest())"
   ]
  },
  {
   "cell_type": "code",
   "execution_count": 17,
   "metadata": {},
   "outputs": [
    {
     "data": {
      "text/plain": [
       "{'1': <itertools._grouper at 0x105c0c400>,\n",
       " '2': <itertools._grouper at 0x105b59da0>,\n",
       " '3': <itertools._grouper at 0x105b59ef0>,\n",
       " '4': <itertools._grouper at 0x105b59e80>}"
      ]
     },
     "execution_count": 17,
     "metadata": {},
     "output_type": "execute_result"
    }
   ],
   "source": [
    "import itertools\n",
    "\n",
    "naturals = itertools.count(1)\n",
    "for num in naturals:\n",
    "    #print(num)\n",
    "    if num > 100:\n",
    "        break\n",
    "        \n",
    "        \n",
    "dict(itertools.groupby('1234111234'))"
   ]
  },
  {
   "cell_type": "code",
   "execution_count": 19,
   "metadata": {},
   "outputs": [
    {
     "name": "stdout",
     "output_type": "stream",
     "text": [
      "Begin\n",
      "QUery info about Longshan...\n",
      "End\n",
      "<H1>\n",
      "Hello\n",
      "World\n",
      "</H1>\n"
     ]
    }
   ],
   "source": [
    "from contextlib import contextmanager\n",
    "\n",
    "class Query(object):\n",
    "    def __init__(self, name):\n",
    "        self.name = name\n",
    "    def query(self):\n",
    "        print('QUery info about %s...' %self.name)\n",
    "        \n",
    "@contextmanager\n",
    "def create_query(name):\n",
    "    print('Begin')\n",
    "    q = Query(name)\n",
    "    yield q\n",
    "    print('End')\n",
    "    \n",
    "with create_query('Longshan') as q:\n",
    "    q.query()\n",
    "    \n",
    "@contextmanager\n",
    "def tag(name):\n",
    "    print('<%s>' %name)\n",
    "    yield\n",
    "    print('</%s>' %name)\n",
    "with tag('H1'):\n",
    "    print('Hello')\n",
    "    print('World')\n",
    "    \n",
    "    "
   ]
  },
  {
   "cell_type": "code",
   "execution_count": null,
   "metadata": {
    "collapsed": true
   },
   "outputs": [],
   "source": []
  }
 ],
 "metadata": {
  "kernelspec": {
   "display_name": "Python 3",
   "language": "python",
   "name": "python3"
  },
  "language_info": {
   "codemirror_mode": {
    "name": "ipython",
    "version": 3
   },
   "file_extension": ".py",
   "mimetype": "text/x-python",
   "name": "python",
   "nbconvert_exporter": "python",
   "pygments_lexer": "ipython3",
   "version": "3.6.1"
  }
 },
 "nbformat": 4,
 "nbformat_minor": 2
}
