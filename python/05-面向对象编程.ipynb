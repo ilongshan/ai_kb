{
 "cells": [
  {
   "cell_type": "markdown",
   "metadata": {},
   "source": [
    "Python的面向对象编程：把一组数据结构和处理他们的方法组成对象（object），把相同行为的对象归纳为类（class），通过类的**封装（encapsulation）**隐藏内部细节，通过**继承（inheritance）**实现类的**特化（specification）/泛化（generalization）**，通过**多态（polymorphism）**实现基于对象类型的**动态分派（dynamic dispatch）**。\n",
    "#### 1. 封装（encapsulation）\n",
    "#### 2. 继承（inheritance）\n",
    "#### 3. 多态（polymorphism）\n",
    "#### 4. 初始化函数 -- __init__(self, \\*args, \\*\\*kwargs)\n",
    "#### 5. 类方法第一个参数是类cls，用@classmethod装饰\n",
    "#### 6. 对象方法第一个参数是对象self，不需要任何修饰\n",
    "#### 7. 静态方法第一个参数没有要求，用@staticmethod装饰\n",
    "#### 8. python的访问控制不严格：\n",
    "1. 以两个下划线开始，以两个下划线结束的变量，是一些特殊变量，一般不要自己定义\n",
    "2. 以两个下划线开始的变量是私有（private）变量，只能在类内部访问\n",
    "3. 以一个下划线开始的变量，虽然时公开（public）的变量，但是一般这些变量不建议直接访问\n",
    "4. 对于私有（private）变量依然有方法去访问：_className\\__varName。不推荐。\n",
    "#### 9. 获取对象信息的方法\n",
    "1. 使用type()获得变量的类型信息\n",
    "2. 使用types模块:types.FunctionType, types.BuiltinFunctionType, types.LambdaType, types.GeneratorType\n",
    "3. 使用isinstance()\n",
    "4. 使用dir()获取对象的所有属性和方法\n",
    "5. 使用getattr(), setattr()和hasattr()来操作对象的状态\n",
    "#### 10. 区分对象属性和类属性"
   ]
  },
  {
   "cell_type": "code",
   "execution_count": 4,
   "metadata": {},
   "outputs": [
    {
     "name": "stdout",
     "output_type": "stream",
     "text": [
      "The score is 90\n",
      "90\n"
     ]
    },
    {
     "ename": "AttributeError",
     "evalue": "'Student' object has no attribute '__score'",
     "output_type": "error",
     "traceback": [
      "\u001b[0;31m---------------------------------------------------------------------------\u001b[0m",
      "\u001b[0;31mAttributeError\u001b[0m                            Traceback (most recent call last)",
      "\u001b[0;32m<ipython-input-4-cfdd70776bf1>\u001b[0m in \u001b[0;36m<module>\u001b[0;34m()\u001b[0m\n\u001b[1;32m      8\u001b[0m \u001b[0mstudent\u001b[0m\u001b[0;34m.\u001b[0m\u001b[0mprint_score\u001b[0m\u001b[0;34m(\u001b[0m\u001b[0;34m)\u001b[0m\u001b[0;34m\u001b[0m\u001b[0m\n\u001b[1;32m      9\u001b[0m \u001b[0mprint\u001b[0m\u001b[0;34m(\u001b[0m\u001b[0mstudent\u001b[0m\u001b[0;34m.\u001b[0m\u001b[0m_Student__score\u001b[0m\u001b[0;34m)\u001b[0m\u001b[0;34m\u001b[0m\u001b[0m\n\u001b[0;32m---> 10\u001b[0;31m \u001b[0mprint\u001b[0m\u001b[0;34m(\u001b[0m\u001b[0mstudent\u001b[0m\u001b[0;34m.\u001b[0m\u001b[0m__score\u001b[0m\u001b[0;34m)\u001b[0m\u001b[0;34m\u001b[0m\u001b[0m\n\u001b[0m",
      "\u001b[0;31mAttributeError\u001b[0m: 'Student' object has no attribute '__score'"
     ]
    }
   ],
   "source": [
    "class Student(object):\n",
    "    def __init__(self, score):\n",
    "        self.__score = score\n",
    "    def print_score(self):\n",
    "        print('The score is %d' %self.__score)\n",
    "        \n",
    "student = Student(90)\n",
    "student.print_score()\n",
    "print(student._Student__score)\n",
    "print(student.__score)"
   ]
  },
  {
   "cell_type": "code",
   "execution_count": null,
   "metadata": {
    "collapsed": true
   },
   "outputs": [],
   "source": []
  }
 ],
 "metadata": {
  "kernelspec": {
   "display_name": "Python 3",
   "language": "python",
   "name": "python3"
  },
  "language_info": {
   "codemirror_mode": {
    "name": "ipython",
    "version": 3
   },
   "file_extension": ".py",
   "mimetype": "text/x-python",
   "name": "python",
   "nbconvert_exporter": "python",
   "pygments_lexer": "ipython3",
   "version": "3.5.2"
  }
 },
 "nbformat": 4,
 "nbformat_minor": 2
}
