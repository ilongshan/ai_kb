{
 "cells": [
  {
   "cell_type": "code",
   "execution_count": null,
   "metadata": {
    "collapsed": true
   },
   "outputs": [],
   "source": []
  },
  {
   "cell_type": "markdown",
   "metadata": {},
   "source": [
    "函数式编程更多的需要思维方式的改变，这个需要在平时的编程中去逐渐的体会。python中函数式编程其实和迭代器（iterator），生成器（generator）列表生成式（list comprehension）以及装饰器（decorator）等交织在一起的。\n",
    "对于函数式编程，这里参考这几个文档来学习。\n",
    "1. [函数式编程 | | 酷 壳 - CoolShell](http://coolshell.cn/articles/10822.html)\n",
    "2. [Functional Programming HOWTO — Python 3.6.1 documentation](https://docs.python.org/3.6/howto/functional.html)\n",
    "3. [Functional Programming in Python](http://www.oreilly.com/programming/free/functional-programming-python.csp)\n",
    "4. [从python 函数式编程到装饰器一气呵成](http://youbingchenyoubing.leanote.com/post/python-%E5%87%BD%E6%95%B0%E5%BC%8F%E7%BC%96%E7%A8%8B)\n",
    "\n",
    "#### 1. 几种创建可调用的函数（拟函数）的方法\n",
    "    - 使用def定义具名函数（named function） && 使用lambda定义的匿名函数（anonymous function）\n",
    "        - 两者原则上的差异（in-principle difference）：是不是具有.__qualname__属性\n",
    "    - 定义了__call()__方法的类（class）的对象（instance） && 函数工厂（function factories）返回的闭包（closure）\n",
    "        - 类（class）是“data with operations attached”；闭包（closure）是“operations with data attached”\n",
    "        - 类（class）强调的是可变性（mutable）或者可重绑定状态（rebindable state）；而闭包（closure）强调的则是不变性（immutability）和纯函数（pure function）\n",
    "        - 当闭包中引用了变量时，结果可能会出乎意料，需要特别注意。\n",
    "    - 类中的方法\n",
    "            - 通过@staticmethod装饰器定义的静态方法\n",
    "            - 通过@classmethod装饰器定义的类方法\n",
    "            - 抽象方法（没有具体实现，只有raise NotImplementedError）\n",
    "            - 通过类的的__dict__定义的静态方法\n",
    "            - 类中的accessors和operators\n",
    "                - 通过@property装饰器可以将函数变成属性\n",
    "                - python中每一个操作符都有对应的操作符函数（operator function），可以重新定义操作符函数重新定义对应的操作符\n",
    "    - 生成器函数（statefulness）\n",
    "        - 带有`yield`语句的函数，这种函数返回的时一个生成器（generator）\n",
    "        - 通过`next()`函数或者是循环（loop）方法去获得相应的值\n",
    "        - 具有惰性求值（lazy evaluation）的特点\n",
    "#### 2. 函数式编程的几个技术\n",
    "1. map&reduce&filter\n",
    "2. pipeline\n",
    "3. recursing\n",
    "4. curring\n",
    "5. HOF（higher order function）"
   ]
  },
  {
   "cell_type": "code",
   "execution_count": 3,
   "metadata": {},
   "outputs": [
    {
     "name": "stdout",
     "output_type": "stream",
     "text": [
      "Hello, Longshan\n",
      "Hello, Longshan\n",
      "hello1\n",
      "<lambda>\n"
     ]
    }
   ],
   "source": [
    "## def具名函数和lambda匿名函数\n",
    "def hello1(name):\n",
    "    print(\"Hello,\", name)\n",
    "    \n",
    "hello2 = lambda name: print(\"Hello,\", name)\n",
    "\n",
    "hello1(\"Longshan\")\n",
    "hello2(\"Longshan\")\n",
    "\n",
    "print(hello1.__qualname__)\n",
    "print(hello2.__qualname__)"
   ]
  },
  {
   "cell_type": "code",
   "execution_count": 5,
   "metadata": {},
   "outputs": [
    {
     "name": "stdout",
     "output_type": "stream",
     "text": [
      "<__main__.Adder object at 0x7f56903ad128>\n",
      "15\n",
      "<function make_adder.<locals>.adder at 0x7f56903a7840>\n",
      "16\n",
      "17\n"
     ]
    }
   ],
   "source": [
    "## callable class\n",
    "class Adder(object):\n",
    "    def __init__(self, n):\n",
    "        self.n = n\n",
    "    def __call__(self, m):\n",
    "        return self.n + m\n",
    "    \n",
    "add5_i = Adder(5)\n",
    "print(add5_i)\n",
    "print(add5_i(10))\n",
    "\n",
    "## closure\n",
    "\n",
    "def make_adder(n):\n",
    "    def adder(m):\n",
    "        return m + n\n",
    "    return adder\n",
    "\n",
    "adder5_f = make_adder(5)\n",
    "print(adder5_f)\n",
    "print(adder5_f(11))\n",
    "print(make_adder(5)(12))"
   ]
  },
  {
   "cell_type": "code",
   "execution_count": 13,
   "metadata": {},
   "outputs": [
    {
     "name": "stdout",
     "output_type": "stream",
     "text": [
      "[14, 14, 14, 14, 14]\n",
      "[20, 20, 20, 20, 20]\n",
      "[10, 11, 12, 13, 14]\n",
      "[10, 11, 12, 13, 14]\n"
     ]
    }
   ],
   "source": [
    "## variables in closure\n",
    "adders = []\n",
    "for n in range(5):\n",
    "    adders.append(lambda m: m + n)\n",
    "print(list([adder(10) for adder in adders]))\n",
    "n = 10\n",
    "print(list([adder(10) for adder in adders]))\n",
    "## 因为这里是惰性求值，在创建adders的时候并没有计算n的值。n的值是在使用adders的时候计算的，在list comprehension中使用的时候n的值已经是4了，所以adders中加的都是4.\n",
    "\n",
    "adders = []\n",
    "for n in range(5):\n",
    "    adders.append(lambda m, k=n: m + k)\n",
    "print(list([adder(10) for adder in adders]))\n",
    "n = 10\n",
    "print(list([adder(10) for adder in adders]))\n",
    "## 这里n变成了局部变量，每一次执行k=n的时候，k的值是确定的，所以可以得到期望的结果。同时试图去重写n的值也不起作用了。\n",
    "## TODO 这里的解释还是有些牵强的，需要进一步深化理解"
   ]
  },
  {
   "cell_type": "code",
   "execution_count": 34,
   "metadata": {},
   "outputs": [
    {
     "name": "stdout",
     "output_type": "stream",
     "text": [
      "5\n",
      "<bound method Pizza.get_radius of <class '__main__.Pizza'>>\n",
      "42\n"
     ]
    }
   ],
   "source": [
    "# staticmethod/classmethod/abstractmethod\n",
    "\n",
    "import math\n",
    "\n",
    "class Pizza(object):\n",
    "    radius = 42\n",
    "    \n",
    "    def __init__(self, cheese, vegetables):\n",
    "        self.cheese = cheese\n",
    "        self.vegetables = vegetables\n",
    "    \n",
    "    @staticmethod\n",
    "    def mix_ingredients(x, y):\n",
    "        return x + y\n",
    "    \n",
    "    @classmethod\n",
    "    def get_radius(cls):\n",
    "        return cls.radius\n",
    "    \n",
    "    @staticmethod\n",
    "    def get_area():\n",
    "        raise NotImplementedError\n",
    "\n",
    "    def cook(self):\n",
    "        return self.mix_ingredients(sef.cheese, self.vegetables)\n",
    "\n",
    "if __name__ == '__main__':\n",
    "    print(Pizza.mix_ingredients(2, 3))\n",
    "    print(Pizza(10, 12).get_radius)\n",
    "    print(Pizza(10, 12).get_radius())"
   ]
  },
  {
   "cell_type": "raw",
   "metadata": {},
   "source": [
    "# accessor：getter & setter\n",
    "class Car(object):\n",
    "    def __init__(self):\n",
    "        self._speed = 100\n",
    "    @property\n",
    "    def speed(self):\n",
    "        print(\"Speed is\", self._speed)\n",
    "        return self._speed\n",
    "    \n",
    "    @speed.setter\n",
    "    def speed(self, value):\n",
    "        print(\"Setting to\", value)\n",
    "        self._speed = value\n",
    "\n",
    "car = Car()\n",
    "x = car.speed\n",
    "car.speed = 80\n",
    "x = car.speed"
   ]
  },
  {
   "cell_type": "code",
   "execution_count": 36,
   "metadata": {},
   "outputs": [
    {
     "name": "stdout",
     "output_type": "stream",
     "text": [
      "Shift 8 by 3\n",
      "64\n"
     ]
    }
   ],
   "source": [
    "# operator\n",
    "## TODO 为什么self是8？\n",
    "class TalkativeInt(int):\n",
    "    def __lshift__(self, other):\n",
    "        print(\"Shift\", self, \"by\", other)\n",
    "        return int.__lshift__(self, other)\n",
    "\n",
    "if __name__ == '__main__':\n",
    "    t = TalkativeInt(8)\n",
    "    print(t << 3)"
   ]
  },
  {
   "cell_type": "code",
   "execution_count": 1,
   "metadata": {},
   "outputs": [
    {
     "name": "stdout",
     "output_type": "stream",
     "text": [
      "0\n"
     ]
    }
   ],
   "source": [
    "from itertools import chain, count\n",
    "thrice_to_inf = chain(count(), count(), count())\n",
    "print(next(thrice_to_inf))"
   ]
  },
  {
   "cell_type": "code",
   "execution_count": null,
   "metadata": {
    "collapsed": true
   },
   "outputs": [],
   "source": []
  }
 ],
 "metadata": {
  "kernelspec": {
   "display_name": "Python 3",
   "language": "python",
   "name": "python3"
  },
  "language_info": {
   "codemirror_mode": {
    "name": "ipython",
    "version": 3
   },
   "file_extension": ".py",
   "mimetype": "text/x-python",
   "name": "python",
   "nbconvert_exporter": "python",
   "pygments_lexer": "ipython3",
   "version": "3.5.2"
  }
 },
 "nbformat": 4,
 "nbformat_minor": 2
}
